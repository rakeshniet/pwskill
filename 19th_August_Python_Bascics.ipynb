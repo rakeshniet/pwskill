{
 "cells": [
  {
   "cell_type": "code",
   "execution_count": 6,
   "id": "1b51ef54-4dd7-44d7-9786-fc97b4cad4d9",
   "metadata": {},
   "outputs": [],
   "source": [
    "\"\"\"Declare two variables, `x` and `y`, and assign them integer values.\n",
    "Swap the values of these variables without using any temporary\n",
    "variable.\"\"\"\n",
    "x = 1"
   ]
  },
  {
   "cell_type": "code",
   "execution_count": 8,
   "id": "59c3ba44-380b-4c88-86e2-56f8a29b5a8a",
   "metadata": {},
   "outputs": [],
   "source": [
    "y = 2"
   ]
  },
  {
   "cell_type": "code",
   "execution_count": 10,
   "id": "c944a4c8-b95c-4c1e-b379-34af909bdc14",
   "metadata": {},
   "outputs": [],
   "source": [
    "z = x"
   ]
  },
  {
   "cell_type": "code",
   "execution_count": 11,
   "id": "24d84444-ff6d-4477-849d-8c5a16f8d72f",
   "metadata": {},
   "outputs": [],
   "source": [
    "x = y"
   ]
  },
  {
   "cell_type": "code",
   "execution_count": 14,
   "id": "f62d3e0a-6cea-4ddf-bfeb-bab3e3eebfc2",
   "metadata": {},
   "outputs": [],
   "source": [
    "y = z"
   ]
  },
  {
   "cell_type": "code",
   "execution_count": 16,
   "id": "c42a74f1-2cfd-4d06-9640-1799271206d4",
   "metadata": {},
   "outputs": [
    {
     "name": "stdout",
     "output_type": "stream",
     "text": [
      "2\n"
     ]
    }
   ],
   "source": [
    "print(x)"
   ]
  },
  {
   "cell_type": "code",
   "execution_count": 18,
   "id": "06d45d48-65c8-419c-8405-f3ff6270cf33",
   "metadata": {},
   "outputs": [
    {
     "name": "stdout",
     "output_type": "stream",
     "text": [
      "1\n"
     ]
    }
   ],
   "source": [
    "print(y)"
   ]
  },
  {
   "cell_type": "code",
   "execution_count": 20,
   "id": "abc19a32-0588-4086-bc87-0b9a8d5b4bdf",
   "metadata": {},
   "outputs": [],
   "source": [
    "\"\"\"Create a program that calculates the area of a rectangle. Take the\n",
    "length and width as inputs from the user and store them in variables.\n",
    "Calculate and display the area.\"\"\"\n",
    "length = 5"
   ]
  },
  {
   "cell_type": "code",
   "execution_count": 22,
   "id": "e7128cfe-302f-41ac-82bd-e99545ca8cc2",
   "metadata": {},
   "outputs": [],
   "source": [
    "width = 4"
   ]
  },
  {
   "cell_type": "code",
   "execution_count": 24,
   "id": "a5ac2ef4-8329-45d0-8c5e-a9d6bdbbec43",
   "metadata": {},
   "outputs": [
    {
     "data": {
      "text/plain": [
       "20"
      ]
     },
     "execution_count": 24,
     "metadata": {},
     "output_type": "execute_result"
    }
   ],
   "source": [
    "length * width"
   ]
  },
  {
   "cell_type": "code",
   "execution_count": 32,
   "id": "ce22c55c-b552-4cad-925b-36afb1ed38c5",
   "metadata": {},
   "outputs": [],
   "source": [
    "\"\"\"Write a Python program that converts temperature from Celsius to\n",
    "Fahrenheit. Take the temperature in Celsius as input, store it in a\n",
    "variable, convert it to Fahrenheit, and display the result.\"\"\"\n",
    "\n",
    "Celsius = 36"
   ]
  },
  {
   "cell_type": "code",
   "execution_count": 33,
   "id": "385a2a94-4e86-40bf-8dc2-8a6f4c807a42",
   "metadata": {},
   "outputs": [],
   "source": [
    "Fahrenheit = (Celsius *1.8) +32"
   ]
  },
  {
   "cell_type": "code",
   "execution_count": 35,
   "id": "3ba28fc4-3e67-4d2b-a26a-e121d809e543",
   "metadata": {},
   "outputs": [
    {
     "name": "stdout",
     "output_type": "stream",
     "text": [
      "96.8\n"
     ]
    }
   ],
   "source": [
    "print(Fahrenheit)"
   ]
  },
  {
   "cell_type": "code",
   "execution_count": 36,
   "id": "e99bd7dd-e4cc-4c0e-9b89-cc7db8b86d83",
   "metadata": {},
   "outputs": [
    {
     "data": {
      "text/plain": [
       "'Write a Python program that takes a string as input and prints the\\nlength of the string.'"
      ]
     },
     "execution_count": 36,
     "metadata": {},
     "output_type": "execute_result"
    }
   ],
   "source": [
    "\"\"\"Write a Python program that takes a string as input and prints the\n",
    "length of the string.\"\"\""
   ]
  },
  {
   "cell_type": "code",
   "execution_count": 38,
   "id": "e03a8d1e-1bd0-4d3f-a4a1-c5f273a7638b",
   "metadata": {},
   "outputs": [],
   "source": [
    "l1 =[3,4,5,\"pwskill\",\"rakesh\"]"
   ]
  },
  {
   "cell_type": "code",
   "execution_count": 43,
   "id": "d2980687-f668-4d5a-aab7-6fa8d6186bbe",
   "metadata": {},
   "outputs": [
    {
     "data": {
      "text/plain": [
       "[3, 4, 5, 'pwskill', 'rakesh']"
      ]
     },
     "execution_count": 43,
     "metadata": {},
     "output_type": "execute_result"
    }
   ],
   "source": [
    "l1"
   ]
  },
  {
   "cell_type": "code",
   "execution_count": 1,
   "id": "a833c3a8-08af-4c65-b6c4-b7c14ff57747",
   "metadata": {},
   "outputs": [
    {
     "data": {
      "text/plain": [
       "'Create a program that takes a sentence from the user and counts the\\nnumber of vowels (a, e, i, o, u) in the string.'"
      ]
     },
     "execution_count": 1,
     "metadata": {},
     "output_type": "execute_result"
    }
   ],
   "source": [
    "\"\"\"Create a program that takes a sentence from the user and counts the\n",
    "number of vowels (a, e, i, o, u) in the string.\"\"\""
   ]
  },
  {
   "cell_type": "code",
   "execution_count": 9,
   "id": "4a10306f-84e5-4fe2-91d1-b9fadcfe4130",
   "metadata": {},
   "outputs": [],
   "source": [
    "\"\"\"Write a program that takes a string as input and checks if it is a\n",
    "palindrome (reads the same forwards and backwards).\"\"\"\n",
    "a =\"pwskill\"[::-1]"
   ]
  },
  {
   "cell_type": "code",
   "execution_count": 11,
   "id": "ef2e3627-56a3-4bf1-95f2-c1a2699c5c99",
   "metadata": {},
   "outputs": [
    {
     "data": {
      "text/plain": [
       "'llikswp'"
      ]
     },
     "execution_count": 11,
     "metadata": {},
     "output_type": "execute_result"
    }
   ],
   "source": [
    "a"
   ]
  },
  {
   "cell_type": "code",
   "execution_count": 12,
   "id": "485b900d-5f8f-484b-8bd9-f3d4e4c94dd1",
   "metadata": {},
   "outputs": [
    {
     "data": {
      "text/plain": [
       "'Create a program that takes a string as input and removes all the\\nspaces from it. Print the modified string without spaces.'"
      ]
     },
     "execution_count": 12,
     "metadata": {},
     "output_type": "execute_result"
    }
   ],
   "source": [
    "\"\"\"Create a program that takes a string as input and removes all the\n",
    "spaces from it. Print the modified string without spaces.\"\"\""
   ]
  },
  {
   "cell_type": "code",
   "execution_count": 14,
   "id": "c78bdcc7-69a2-43c7-b61a-114132719da4",
   "metadata": {},
   "outputs": [],
   "source": [
    "a =\"p w s k i l l\""
   ]
  },
  {
   "cell_type": "code",
   "execution_count": 18,
   "id": "c2141735-99a3-4eb0-8a23-fc18df3ac292",
   "metadata": {},
   "outputs": [
    {
     "data": {
      "text/plain": [
       "'pwskill'"
      ]
     },
     "execution_count": 18,
     "metadata": {},
     "output_type": "execute_result"
    }
   ],
   "source": [
    "a.replace(\" \", \"\")"
   ]
  }
 ],
 "metadata": {
  "kernelspec": {
   "display_name": "Python 3 (ipykernel)",
   "language": "python",
   "name": "python3"
  },
  "language_info": {
   "codemirror_mode": {
    "name": "ipython",
    "version": 3
   },
   "file_extension": ".py",
   "mimetype": "text/x-python",
   "name": "python",
   "nbconvert_exporter": "python",
   "pygments_lexer": "ipython3",
   "version": "3.10.8"
  }
 },
 "nbformat": 4,
 "nbformat_minor": 5
}
